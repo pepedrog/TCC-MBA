{
 "cells": [
  {
   "cell_type": "markdown",
   "id": "e2ccb389",
   "metadata": {},
   "source": [
    "# **Efeito de congestionamentos em acidentes de trânsito**\n",
    "## **Estudo de caso de São Paulo**\n",
    "\n",
    "### Notebook 1a - Dados de Acidentes\n",
    "\n",
    "Neste notebook, são realizados o carregamento e o pré-processamento dos dados de acidentes.\n",
    "\n",
    "A origem dos dados é o sistema **InfoSiga** do governo do estado de São Paulo \n",
    "- `http://catalogo.governoaberto.sp.gov.br/dataset/infosiga-sp-sistema-de-informacoes-gerenciais-de-acidentes-de-transito-do-estado-de-sao-paulo` (acesso em 10/05/2024)\n",
    "\n",
    "O resultado desse notebook é o arquivo `data/acidentes/df_acidentes.csv`"
   ]
  },
  {
   "cell_type": "code",
   "execution_count": 1,
   "id": "c14ff017",
   "metadata": {},
   "outputs": [
    {
     "data": {
      "text/plain": [
       "<module 'aux.preprocess_accidents' from 'C:\\\\Users\\\\gigec\\\\OneDrive\\\\Documentos\\\\Pedro\\\\MBA\\\\TCC\\\\src\\\\aux\\\\preprocess_accidents.py'>"
      ]
     },
     "execution_count": 1,
     "metadata": {},
     "output_type": "execute_result"
    }
   ],
   "source": [
    "import pandas as pd\n",
    "import geopandas as gpd\n",
    "import folium\n",
    "import shapely as sh\n",
    "import numpy as np\n",
    "import math\n",
    "import networkx as nx\n",
    "from datetime import datetime\n",
    "import difflib\n",
    "import time\n",
    "import shapely as sh\n",
    "\n",
    "import aux.sao_paulo_shapefile as sp_shp\n",
    "import aux.sao_paulo_graph as sp_graph\n",
    "import aux.preprocess_congestion as cong\n",
    "import aux.preprocess_accidents as acc\n",
    "\n",
    "from scipy.spatial.distance import euclidean\n",
    "from scipy.spatial import KDTree\n",
    "\n",
    "# se nenessário recarregar os arquivos auxiliares\n",
    "from importlib import reload\n",
    "\n",
    "import requests\n",
    "import urllib.parse\n",
    "\n",
    "reload(sp_shp)\n",
    "reload(sp_graph)\n",
    "reload(cong)\n",
    "reload(acc)\n",
    "\n",
    "# se necessário instalar os pacotes\n",
    "# !pip install folium"
   ]
  },
  {
   "cell_type": "markdown",
   "id": "9b361f5c",
   "metadata": {},
   "source": [
    "### Carregamento e unificação dos arquivos\n",
    "\n",
    "Aqui carregamos os dados e fazemos adequações nos conteúdos e tipos das colunas, a fim de unificar os dois arquivos (fatais e não fatais)"
   ]
  },
  {
   "cell_type": "code",
   "execution_count": 2,
   "id": "a6db7fdf",
   "metadata": {},
   "outputs": [],
   "source": [
    "colunas = [\n",
    "    'chave', \n",
    "    'data',\n",
    "    'hora',\n",
    "    'dia_semana',\n",
    "    'municipio',\n",
    "    'logradouro',\n",
    "    'numero_endereco',\n",
    "    'latitude',\n",
    "    'longitude',\n",
    "    'tipo_acidente',\n",
    "    'qtde_vitimas',\n",
    "    'tempo_acidente_obito'\n",
    "]\n",
    "\n",
    "colunas_originais = [\n",
    "    'ID',\n",
    "    'Data do Acidente',\n",
    "    'Hora do Acidente',\n",
    "    'Dia da semana',\n",
    "    'Município',\n",
    "    'Logradouro',\n",
    "    'Numeral / KM',\n",
    "    'Lat (GEO)',\n",
    "    'Long (GEO)',\n",
    "    'Tipo de Acidente',\n",
    "    'Quantidade de vítimas',\n",
    "    'Tempo entre o Acidente e as Mortes'\n",
    "]"
   ]
  },
  {
   "cell_type": "code",
   "execution_count": 3,
   "id": "21b2c80c",
   "metadata": {},
   "outputs": [],
   "source": [
    "#acidentes fatais\n",
    "\n",
    "df_fatais = pd.read_csv('data/acidentes/acidentes_fatais.csv', sep = ';', encoding = 'ANSI')\n",
    "df_fatais['Tipo de Acidente'] = 'fatal'\n",
    "df_fatais = df_fatais[colunas_originais]\n",
    "df_fatais.columns = colunas"
   ]
  },
  {
   "cell_type": "code",
   "execution_count": 4,
   "id": "8422a000",
   "metadata": {},
   "outputs": [],
   "source": [
    "# acidentes não fatais\n",
    "\n",
    "df_nao_fatais = pd.read_csv('data/acidentes/acidentes_nao_fatais.csv', sep = ';', encoding = 'ANSI')\n",
    "df_nao_fatais.rename( \n",
    "    { \n",
    "        'LAT_(GEO)' : 'Lat (GEO)', \n",
    "        'LONG_(GEO)' : 'Long (GEO)',\n",
    "        'Numero/KM' : 'Numeral / KM',\n",
    "        'Dia da Semana' : 'Dia da semana'\n",
    "    }, inplace=True, axis=1)\n",
    "\n",
    "def define_tipo_acidente (acidente):\n",
    "    if acidente['Tipo de Acidente - Atropelamento (Pedestre)'] == 1:\n",
    "        return 'nao fatal - atropelamento'\n",
    "    if acidente['Tipo de Acidente - Atropelamento (Animal)'] == 1:\n",
    "        return 'nao fatal - atropelamento'\n",
    "    if acidente['Tipo de Acidente - Choque'] == 1:\n",
    "        return 'nao fatal - colisao'\n",
    "    if acidente['Tipo de Acidente - Colisão'] == 1:\n",
    "        return 'nao fatal - colisao'\n",
    "    return 'nao fatal - outros'\n",
    "\n",
    "df_nao_fatais['Tipo de Acidente'] = df_nao_fatais.apply(lambda a : define_tipo_acidente(a), axis = 1) \n",
    "\n",
    "df_nao_fatais['Quantidade de vítimas'] = df_nao_fatais[\n",
    "        ['Pessoas Envolvidas - Grave', 'Pessoas Envolvidas - Leve']].apply(np.sum, axis = 1)\n",
    "\n",
    "df_nao_fatais['Tempo entre o Acidente e as Mortes'] = None\n",
    "\n",
    "df_nao_fatais = df_nao_fatais[colunas_originais]\n",
    "df_nao_fatais.columns = colunas"
   ]
  },
  {
   "cell_type": "code",
   "execution_count": 5,
   "id": "81270f46",
   "metadata": {},
   "outputs": [],
   "source": [
    "# unificação dos datasets\n",
    "\n",
    "df_acidentes = pd.concat([df_fatais, df_nao_fatais]) \n",
    "\n",
    "df_acidentes.drop('tempo_acidente_obito', inplace = True, axis = 1) # coluna não é utilizada"
   ]
  },
  {
   "cell_type": "markdown",
   "id": "51de84fb",
   "metadata": {},
   "source": [
    "### Tratamento de duplicatas"
   ]
  },
  {
   "cell_type": "code",
   "execution_count": 6,
   "id": "6b12bf71",
   "metadata": {},
   "outputs": [
    {
     "name": "stdout",
     "output_type": "stream",
     "text": [
      "Total de acidentes (pré duplicatas): \t 959753\n",
      "Total de acidentes: \t\t\t 959225\n"
     ]
    }
   ],
   "source": [
    "\n",
    "print('Total de acidentes (pré duplicatas): \\t', len(df_acidentes))\n",
    "\n",
    "df_acidentes['chave'] = df_acidentes.apply(\n",
    "    lambda a : str(a['data']) + str(a['hora']) + str(a['municipio']) + str(a['logradouro']) + str(a['numero_endereco']),\n",
    "    axis = 1)\n",
    "\n",
    "df_acidentes.sort_values('qtde_vitimas', inplace = True)\n",
    "df_acidentes.drop_duplicates('chave', keep = 'last', inplace = True)\n",
    "df_acidentes.reset_index(inplace = True)\n",
    "\n",
    "print('Total de acidentes: \\t\\t\\t', len(df_acidentes))"
   ]
  },
  {
   "cell_type": "markdown",
   "id": "9396d8da",
   "metadata": {},
   "source": [
    "### Valores nulos"
   ]
  },
  {
   "cell_type": "code",
   "execution_count": 8,
   "id": "9c6ef283",
   "metadata": {},
   "outputs": [
    {
     "name": "stdout",
     "output_type": "stream",
     "text": [
      "935683\n"
     ]
    }
   ],
   "source": [
    "# casos sem endereco nem coordenadas, apenas retiramos\n",
    "\n",
    "df_acidentes = df_acidentes[\n",
    "    ~((df_acidentes['logradouro'] == 'NAO DISPONIVEL') &\n",
    "    (df_acidentes['latitude'].isnull()) &\n",
    "    (df_acidentes['longitude'].isnull()))]\n",
    "\n",
    "# 23 542 registros deletados (2.5%)\n",
    "print(len(df_acidentes))"
   ]
  },
  {
   "cell_type": "markdown",
   "id": "8be4ff7d",
   "metadata": {},
   "source": [
    "### Busca de coordenadas no OSM"
   ]
  },
  {
   "cell_type": "code",
   "execution_count": 9,
   "id": "9bd37b82",
   "metadata": {},
   "outputs": [],
   "source": [
    "# casos sem coordenadas - buscamos as coordenadas do openstreetmap\n",
    "\n",
    "geocode_api_url = 'https://nominatim.openstreetmap.org/search.php?q='\n",
    "def busca_coordenadas(municipio, logradouro, numero):\n",
    "    endereco = municipio + ', ' + logradouro + ', ' + str(numero)\n",
    "    endereco = urllib.parse.quote(endereco)\n",
    "    url = geocode_api_url + endereco + '&format=jsonv2'\n",
    "    response = requests.get(url)\n",
    "    if response.status_code != 200 or response.json() == []: \n",
    "        return None\n",
    "        \n",
    "    lat = float(response.json()[0]['lat'])\n",
    "    lon = float(response.json()[0]['lon'])\n",
    "    return (lat, lon) "
   ]
  },
  {
   "cell_type": "code",
   "execution_count": 10,
   "id": "772bb873",
   "metadata": {},
   "outputs": [
    {
     "name": "stdout",
     "output_type": "stream",
     "text": [
      "12138  registros sem coordenadas\n"
     ]
    }
   ],
   "source": [
    "sem_coord = df_acidentes[\n",
    "    (df_acidentes['latitude'].isnull()) &\n",
    "    (df_acidentes['longitude'].isnull()) &\n",
    "    (df_acidentes['municipio'] == 'SAO PAULO') &\n",
    "    (df_acidentes['numero_endereco'] != 'NAO DISPONIVEL')]\n",
    "\n",
    "n = len(sem_coord)\n",
    "print(n, ' registros sem coordenadas') # 12138"
   ]
  },
  {
   "cell_type": "code",
   "execution_count": 11,
   "id": "95de3f62",
   "metadata": {},
   "outputs": [
    {
     "data": {
      "text/html": [
       "<div>\n",
       "<style scoped>\n",
       "    .dataframe tbody tr th:only-of-type {\n",
       "        vertical-align: middle;\n",
       "    }\n",
       "\n",
       "    .dataframe tbody tr th {\n",
       "        vertical-align: top;\n",
       "    }\n",
       "\n",
       "    .dataframe thead th {\n",
       "        text-align: right;\n",
       "    }\n",
       "</style>\n",
       "<table border=\"1\" class=\"dataframe\">\n",
       "  <thead>\n",
       "    <tr style=\"text-align: right;\">\n",
       "      <th></th>\n",
       "      <th>index</th>\n",
       "      <th>chave</th>\n",
       "      <th>data</th>\n",
       "      <th>hora</th>\n",
       "      <th>dia_semana</th>\n",
       "      <th>municipio</th>\n",
       "      <th>logradouro</th>\n",
       "      <th>numero_endereco</th>\n",
       "      <th>latitude</th>\n",
       "      <th>longitude</th>\n",
       "      <th>tipo_acidente</th>\n",
       "      <th>qtde_vitimas</th>\n",
       "    </tr>\n",
       "  </thead>\n",
       "  <tbody>\n",
       "    <tr>\n",
       "      <th>38758</th>\n",
       "      <td>386018</td>\n",
       "      <td>2022-02-0623:00SAO PAULOACESSO AVENIDA PROFESS...</td>\n",
       "      <td>2022-02-06</td>\n",
       "      <td>23:00</td>\n",
       "      <td>DOMINGO</td>\n",
       "      <td>SAO PAULO</td>\n",
       "      <td>ACESSO AVENIDA PROFESSOR JOAO BATISTA CONTI</td>\n",
       "      <td>152</td>\n",
       "      <td>NaN</td>\n",
       "      <td>NaN</td>\n",
       "      <td>nao fatal - outros</td>\n",
       "      <td>0</td>\n",
       "    </tr>\n",
       "    <tr>\n",
       "      <th>495887</th>\n",
       "      <td>578548</td>\n",
       "      <td>2021-01-1219:22SAO PAULOVIADUTO MINISTRO ALIOM...</td>\n",
       "      <td>2021-01-12</td>\n",
       "      <td>19:22</td>\n",
       "      <td>TERÇA</td>\n",
       "      <td>SAO PAULO</td>\n",
       "      <td>VIADUTO MINISTRO ALIOMAR BALEEIRO</td>\n",
       "      <td>1</td>\n",
       "      <td>NaN</td>\n",
       "      <td>NaN</td>\n",
       "      <td>nao fatal - colisao</td>\n",
       "      <td>1</td>\n",
       "    </tr>\n",
       "    <tr>\n",
       "      <th>69485</th>\n",
       "      <td>758392</td>\n",
       "      <td>2019-12-1418:54SAO PAULOPRESIDENTE DUTRA BR 1161</td>\n",
       "      <td>2019-12-14</td>\n",
       "      <td>18:54</td>\n",
       "      <td>SÁBADO</td>\n",
       "      <td>SAO PAULO</td>\n",
       "      <td>PRESIDENTE DUTRA BR 116</td>\n",
       "      <td>1</td>\n",
       "      <td>NaN</td>\n",
       "      <td>NaN</td>\n",
       "      <td>nao fatal - outros</td>\n",
       "      <td>0</td>\n",
       "    </tr>\n",
       "  </tbody>\n",
       "</table>\n",
       "</div>"
      ],
      "text/plain": [
       "         index                                              chave        data  \\\n",
       "38758   386018  2022-02-0623:00SAO PAULOACESSO AVENIDA PROFESS...  2022-02-06   \n",
       "495887  578548  2021-01-1219:22SAO PAULOVIADUTO MINISTRO ALIOM...  2021-01-12   \n",
       "69485   758392   2019-12-1418:54SAO PAULOPRESIDENTE DUTRA BR 1161  2019-12-14   \n",
       "\n",
       "         hora dia_semana  municipio  \\\n",
       "38758   23:00    DOMINGO  SAO PAULO   \n",
       "495887  19:22      TERÇA  SAO PAULO   \n",
       "69485   18:54     SÁBADO  SAO PAULO   \n",
       "\n",
       "                                         logradouro numero_endereco latitude  \\\n",
       "38758   ACESSO AVENIDA PROFESSOR JOAO BATISTA CONTI             152      NaN   \n",
       "495887            VIADUTO MINISTRO ALIOMAR BALEEIRO               1      NaN   \n",
       "69485                       PRESIDENTE DUTRA BR 116               1      NaN   \n",
       "\n",
       "       longitude        tipo_acidente  qtde_vitimas  \n",
       "38758        NaN   nao fatal - outros             0  \n",
       "495887       NaN  nao fatal - colisao             1  \n",
       "69485        NaN   nao fatal - outros             0  "
      ]
     },
     "execution_count": 11,
     "metadata": {},
     "output_type": "execute_result"
    }
   ],
   "source": [
    "sem_coord.sample(3)"
   ]
  },
  {
   "cell_type": "code",
   "execution_count": 13,
   "id": "b88285c0",
   "metadata": {},
   "outputs": [],
   "source": [
    "def trata_logradouro(log):\n",
    "    l = log.replace('ACESSO', '').strip()\n",
    "    l = l.replace('JACUPESSEGO', 'JACU PESSEGO').strip()\n",
    "    l = l.replace('CENTRO', '').strip()\n",
    "    l = l.replace('ESTACAO', 'ESTAÇÃO').strip()\n",
    "    l = l.replace('ESTAÇÃO METRO', 'ESTAÇÃO').strip()\n",
    "    return l"
   ]
  },
  {
   "cell_type": "code",
   "execution_count": 58,
   "id": "05f05a46",
   "metadata": {},
   "outputs": [
    {
     "name": "stdout",
     "output_type": "stream",
     "text": [
      "(-23.5570054, -46.6612537)\n"
     ]
    }
   ],
   "source": [
    "print(busca_coordenadas('Sao Paulo', 'Avenida Paulista', ''))"
   ]
  },
  {
   "cell_type": "code",
   "execution_count": 15,
   "id": "fd89529d",
   "metadata": {},
   "outputs": [],
   "source": [
    "# esse processamento deve ser feito em pequenos lotes (limite da API do OSM)\n",
    "\n",
    "j = 0\n",
    "s = 0\n",
    "for i, r in sem_coord.iterrows():    \n",
    "    j += 1\n",
    "    # use essa linha para controlar os lotes\n",
    "    if j < 99999: continue\n",
    "    if (j % 10 == 0):\n",
    "        print('{}\\t{}/{}'.format(datetime.now().strftime('%H:%M:%S'), j, n))\n",
    "        print(j - s, 'erros\\n')\n",
    "        \n",
    "    time.sleep(2)\n",
    "    logradouro = trata_logradouro(r['logradouro'])\n",
    "    \n",
    "    numero = r['numero_endereco']\n",
    "    if 'ESTAÇÃO' in logradouro: numero = ''\n",
    "    \n",
    "    coords = busca_coordenadas(r['municipio'], logradouro, numero)\n",
    "    if coords == None: \n",
    "        print(r['municipio'], logradouro, r['numero_endereco'])\n",
    "        continue\n",
    "    \n",
    "    s += 1\n",
    "    df_acidentes.at[i, 'latitude'] = coords[0]\n",
    "    df_acidentes.at[i, 'longitude'] = coords[1]"
   ]
  },
  {
   "cell_type": "code",
   "execution_count": 57,
   "id": "ab9acb81",
   "metadata": {},
   "outputs": [],
   "source": [
    "df_acidentes.to_csv('data/acidentes/df_acidentes_backup_prepreenchido.csv')"
   ]
  },
  {
   "cell_type": "code",
   "execution_count": 17,
   "id": "5b90b2a8",
   "metadata": {},
   "outputs": [
    {
     "name": "stdout",
     "output_type": "stream",
     "text": [
      "216010\n"
     ]
    }
   ],
   "source": [
    "df_acidentes = pd.read_csv('data/acidentes/df_acidentes_backup_prepreenchido_4.csv')\n",
    "\n",
    "df_acidentes_final = df_acidentes[~(df_acidentes['longitude'].isnull())]\n",
    "df_acidentes_final = df_acidentes_final[~(df_acidentes_final['latitude'].isnull())]\n",
    "\n",
    "df_acidentes_final = df_acidentes_final[df_acidentes_final['latitude'] != 'NAO DISPONIVEL']\n",
    "df_acidentes_final = df_acidentes_final[df_acidentes_final['longitude'] != 'NAO DISPONIVEL']\n",
    "\n",
    "df_acidentes_final = df_acidentes_final[df_acidentes_final['municipio'] == 'SAO PAULO']\n",
    "\n",
    "print(len(df_acidentes_final))\n",
    "# 216010\n",
    "\n",
    "df_acidentes = pd.read_csv('data/acidentes/df_acidentes.csv')"
   ]
  },
  {
   "cell_type": "markdown",
   "id": "bee0a6e2",
   "metadata": {},
   "source": [
    "### colocando os acidentes no grafo"
   ]
  },
  {
   "cell_type": "code",
   "execution_count": 18,
   "id": "31dcfdd0",
   "metadata": {},
   "outputs": [
    {
     "name": "stdout",
     "output_type": "stream",
     "text": [
      "16:41:37\t Fazendo leitura do arquivo (3 min)\n",
      "16:43:19\t Iniciando criação do grafo (3 min)\n",
      "16:44:07\t Fim da criação do grafo\n"
     ]
    }
   ],
   "source": [
    "print('{}\\t Fazendo leitura do arquivo (3 min)'.format(datetime.now().strftime('%H:%M:%S')))\n",
    "gdf = sp_shp.read_and_process_file('data/logradouros/SIRGAS_SHP_logradouronbl_line.shp')\n",
    "print('{}\\t Iniciando criação do grafo (3 min)'.format(datetime.now().strftime('%H:%M:%S')))\n",
    "G = sp_graph.create_and_process_graph (gdf)\n",
    "print('{}\\t Fim da criação do grafo'.format(datetime.now().strftime('%H:%M:%S')))"
   ]
  },
  {
   "cell_type": "code",
   "execution_count": 19,
   "id": "12c9a24e",
   "metadata": {},
   "outputs": [
    {
     "name": "stdout",
     "output_type": "stream",
     "text": [
      "1220194\n",
      "1220194\n"
     ]
    }
   ],
   "source": [
    "tree, nodes, edges_of_the_nodes = acc.build_kd_tree(G)\n",
    "print(len(nodes))\n",
    "print(len(edges_of_the_nodes))"
   ]
  },
  {
   "cell_type": "code",
   "execution_count": 37,
   "id": "f57e7c68",
   "metadata": {},
   "outputs": [],
   "source": [
    "def plot_mapa_encontra_aresta (nodes, edges_of_the_nodes, tree, acidente):\n",
    "    v, e = acc.find_edge(nodes, edges_of_the_nodes, tree, acidente)\n",
    "    \n",
    "    #plota acidente\n",
    "    v_a = (float(acidente['latitude'].replace(',','.')), float(acidente['longitude'].replace(',','.')))\n",
    "    \n",
    "    m = folium.Map(zoom_start=18,location=v_a, tiles=\"cartodb positron\")\n",
    "    folium.Circle(\n",
    "        location = v_a,\n",
    "        radius = 7,\n",
    "        color = \"black\",\n",
    "        weight = 3,\n",
    "        fill_opacity = 0.7,\n",
    "        opacity = 1,\n",
    "        fill_color = \"red\"\n",
    "    ).add_to(m)\n",
    "    \n",
    "    #plota aresta\n",
    "    e_data = G.get_edge_data(e[0], e[1])\n",
    "    g = e_data[0]['geometry']\n",
    "    d_e = g.distance(sh.Point(v[0], v[1]))\n",
    "    coords = [(point[1], point[0]) for point in g.coords]  # Revertendo a ordem para (lat, lon)\n",
    "    folium.PolyLine(coords, color=\"blue\", weight=5, opacity=1).add_to(m)\n",
    "    \n",
    "    # plota ponto da aresta\n",
    "    folium.Circle(\n",
    "        location = v[::-1],\n",
    "        radius = 5,\n",
    "        color = \"black\",\n",
    "        weight = 3,\n",
    "        fill_opacity = .5,\n",
    "        opacity = 1,\n",
    "        fill_color = \"orange\"\n",
    "    ).add_to(m)\n",
    "    \n",
    "    #print('aresta:                  ', e_data)\n",
    "    print('coordenadas do acidente: ', [round(x, 5) for x in v_a])\n",
    "    print('coordenadas do vértice:  ', [round(x, 5) for x in v[::-1]])\n",
    "    print('distancia:               ', d_e)\n",
    "    display(m)"
   ]
  },
  {
   "cell_type": "code",
   "execution_count": 41,
   "id": "18ae2623",
   "metadata": {},
   "outputs": [
    {
     "name": "stdout",
     "output_type": "stream",
     "text": [
      "RUA RUBEM SOUTO DE ARAUJO 666\n",
      "coordenadas do acidente:  [-23.738, -46.70643]\n",
      "coordenadas do vértice:   [-23.73799, -46.70642]\n",
      "distancia:                0.0\n"
     ]
    },
    {
     "data": {
      "text/html": [
       "<div style=\"width:100%;\"><div style=\"position:relative;width:100%;height:0;padding-bottom:60%;\"><span style=\"color:#565656\">Make this Notebook Trusted to load map: File -> Trust Notebook</span><iframe srcdoc=\"&lt;!DOCTYPE html&gt;\n",
       "&lt;html&gt;\n",
       "&lt;head&gt;\n",
       "    \n",
       "    &lt;meta http-equiv=&quot;content-type&quot; content=&quot;text/html; charset=UTF-8&quot; /&gt;\n",
       "    \n",
       "        &lt;script&gt;\n",
       "            L_NO_TOUCH = false;\n",
       "            L_DISABLE_3D = false;\n",
       "        &lt;/script&gt;\n",
       "    \n",
       "    &lt;style&gt;html, body {width: 100%;height: 100%;margin: 0;padding: 0;}&lt;/style&gt;\n",
       "    &lt;style&gt;#map {position:absolute;top:0;bottom:0;right:0;left:0;}&lt;/style&gt;\n",
       "    &lt;script src=&quot;https://cdn.jsdelivr.net/npm/leaflet@1.9.3/dist/leaflet.js&quot;&gt;&lt;/script&gt;\n",
       "    &lt;script src=&quot;https://code.jquery.com/jquery-3.7.1.min.js&quot;&gt;&lt;/script&gt;\n",
       "    &lt;script src=&quot;https://cdn.jsdelivr.net/npm/bootstrap@5.2.2/dist/js/bootstrap.bundle.min.js&quot;&gt;&lt;/script&gt;\n",
       "    &lt;script src=&quot;https://cdnjs.cloudflare.com/ajax/libs/Leaflet.awesome-markers/2.0.2/leaflet.awesome-markers.js&quot;&gt;&lt;/script&gt;\n",
       "    &lt;link rel=&quot;stylesheet&quot; href=&quot;https://cdn.jsdelivr.net/npm/leaflet@1.9.3/dist/leaflet.css&quot;/&gt;\n",
       "    &lt;link rel=&quot;stylesheet&quot; href=&quot;https://cdn.jsdelivr.net/npm/bootstrap@5.2.2/dist/css/bootstrap.min.css&quot;/&gt;\n",
       "    &lt;link rel=&quot;stylesheet&quot; href=&quot;https://netdna.bootstrapcdn.com/bootstrap/3.0.0/css/bootstrap.min.css&quot;/&gt;\n",
       "    &lt;link rel=&quot;stylesheet&quot; href=&quot;https://cdn.jsdelivr.net/npm/@fortawesome/fontawesome-free@6.2.0/css/all.min.css&quot;/&gt;\n",
       "    &lt;link rel=&quot;stylesheet&quot; href=&quot;https://cdnjs.cloudflare.com/ajax/libs/Leaflet.awesome-markers/2.0.2/leaflet.awesome-markers.css&quot;/&gt;\n",
       "    &lt;link rel=&quot;stylesheet&quot; href=&quot;https://cdn.jsdelivr.net/gh/python-visualization/folium/folium/templates/leaflet.awesome.rotate.min.css&quot;/&gt;\n",
       "    \n",
       "            &lt;meta name=&quot;viewport&quot; content=&quot;width=device-width,\n",
       "                initial-scale=1.0, maximum-scale=1.0, user-scalable=no&quot; /&gt;\n",
       "            &lt;style&gt;\n",
       "                #map_edd5357564bd535f1b05b899df17dc6a {\n",
       "                    position: relative;\n",
       "                    width: 100.0%;\n",
       "                    height: 100.0%;\n",
       "                    left: 0.0%;\n",
       "                    top: 0.0%;\n",
       "                }\n",
       "                .leaflet-container { font-size: 1rem; }\n",
       "            &lt;/style&gt;\n",
       "        \n",
       "&lt;/head&gt;\n",
       "&lt;body&gt;\n",
       "    \n",
       "    \n",
       "            &lt;div class=&quot;folium-map&quot; id=&quot;map_edd5357564bd535f1b05b899df17dc6a&quot; &gt;&lt;/div&gt;\n",
       "        \n",
       "&lt;/body&gt;\n",
       "&lt;script&gt;\n",
       "    \n",
       "    \n",
       "            var map_edd5357564bd535f1b05b899df17dc6a = L.map(\n",
       "                &quot;map_edd5357564bd535f1b05b899df17dc6a&quot;,\n",
       "                {\n",
       "                    center: [-23.7380046521774, -46.7064297356208],\n",
       "                    crs: L.CRS.EPSG3857,\n",
       "                    zoom: 18,\n",
       "                    zoomControl: true,\n",
       "                    preferCanvas: false,\n",
       "                }\n",
       "            );\n",
       "\n",
       "            \n",
       "\n",
       "        \n",
       "    \n",
       "            var tile_layer_528d526cf017928061f799fc5e6a6410 = L.tileLayer(\n",
       "                &quot;https://{s}.basemaps.cartocdn.com/light_all/{z}/{x}/{y}{r}.png&quot;,\n",
       "                {&quot;attribution&quot;: &quot;\\u0026copy; \\u003ca href=\\&quot;https://www.openstreetmap.org/copyright\\&quot;\\u003eOpenStreetMap\\u003c/a\\u003e contributors \\u0026copy; \\u003ca href=\\&quot;https://carto.com/attributions\\&quot;\\u003eCARTO\\u003c/a\\u003e&quot;, &quot;detectRetina&quot;: false, &quot;maxNativeZoom&quot;: 20, &quot;maxZoom&quot;: 20, &quot;minZoom&quot;: 0, &quot;noWrap&quot;: false, &quot;opacity&quot;: 1, &quot;subdomains&quot;: &quot;abcd&quot;, &quot;tms&quot;: false}\n",
       "            );\n",
       "        \n",
       "    \n",
       "            tile_layer_528d526cf017928061f799fc5e6a6410.addTo(map_edd5357564bd535f1b05b899df17dc6a);\n",
       "        \n",
       "    \n",
       "            var circle_a565053cd2ed7f8fd37abf76ee598797 = L.circle(\n",
       "                [-23.7380046521774, -46.7064297356208],\n",
       "                {&quot;bubblingMouseEvents&quot;: true, &quot;color&quot;: &quot;black&quot;, &quot;dashArray&quot;: null, &quot;dashOffset&quot;: null, &quot;fill&quot;: true, &quot;fillColor&quot;: &quot;red&quot;, &quot;fillOpacity&quot;: 0.7, &quot;fillRule&quot;: &quot;evenodd&quot;, &quot;lineCap&quot;: &quot;round&quot;, &quot;lineJoin&quot;: &quot;round&quot;, &quot;opacity&quot;: 1, &quot;radius&quot;: 7, &quot;stroke&quot;: true, &quot;weight&quot;: 3}\n",
       "            ).addTo(map_edd5357564bd535f1b05b899df17dc6a);\n",
       "        \n",
       "    \n",
       "            var poly_line_fac06ff3fbc09e4681546822241a2f20 = L.polyline(\n",
       "                [[-23.737627394427793, -46.70538626105066], [-23.737658846903827, -46.70553663485642], [-23.737673447045577, -46.705595768116886], [-23.737725665984232, -46.70573692615389], [-23.73788157595016, -46.70615401837558], [-23.73798893187656, -46.706423006447906], [-23.738027711026565, -46.706479340903265], [-23.738084461505032, -46.706523356247374], [-23.73813734368341, -46.70654207688415], [-23.73818416772329, -46.706542422556595], [-23.738291642906063, -46.706516462581156], [-23.738500930064042, -46.706456696527056]],\n",
       "                {&quot;bubblingMouseEvents&quot;: true, &quot;color&quot;: &quot;blue&quot;, &quot;dashArray&quot;: null, &quot;dashOffset&quot;: null, &quot;fill&quot;: false, &quot;fillColor&quot;: &quot;blue&quot;, &quot;fillOpacity&quot;: 0.2, &quot;fillRule&quot;: &quot;evenodd&quot;, &quot;lineCap&quot;: &quot;round&quot;, &quot;lineJoin&quot;: &quot;round&quot;, &quot;noClip&quot;: false, &quot;opacity&quot;: 1, &quot;smoothFactor&quot;: 1.0, &quot;stroke&quot;: true, &quot;weight&quot;: 5}\n",
       "            ).addTo(map_edd5357564bd535f1b05b899df17dc6a);\n",
       "        \n",
       "    \n",
       "            var circle_b977d04a6b9cbbe061cb9fa8b71f5ff6 = L.circle(\n",
       "                [-23.73798893187656, -46.706423006447906],\n",
       "                {&quot;bubblingMouseEvents&quot;: true, &quot;color&quot;: &quot;black&quot;, &quot;dashArray&quot;: null, &quot;dashOffset&quot;: null, &quot;fill&quot;: true, &quot;fillColor&quot;: &quot;orange&quot;, &quot;fillOpacity&quot;: 0.5, &quot;fillRule&quot;: &quot;evenodd&quot;, &quot;lineCap&quot;: &quot;round&quot;, &quot;lineJoin&quot;: &quot;round&quot;, &quot;opacity&quot;: 1, &quot;radius&quot;: 5, &quot;stroke&quot;: true, &quot;weight&quot;: 3}\n",
       "            ).addTo(map_edd5357564bd535f1b05b899df17dc6a);\n",
       "        \n",
       "&lt;/script&gt;\n",
       "&lt;/html&gt;\" style=\"position:absolute;width:100%;height:100%;left:0;top:0;border:none !important;\" allowfullscreen webkitallowfullscreen mozallowfullscreen></iframe></div></div>"
      ],
      "text/plain": [
       "<folium.folium.Map at 0x2072bee1088>"
      ]
     },
     "metadata": {},
     "output_type": "display_data"
    }
   ],
   "source": [
    "i = 10000\n",
    "a = df_acidentes_final.iloc[i]\n",
    "\n",
    "print(a['logradouro'], a['numero_endereco'])\n",
    "plot_mapa_encontra_aresta(nodes,edges_of_the_nodes, tree, a)"
   ]
  },
  {
   "cell_type": "code",
   "execution_count": 22,
   "id": "af9b9334",
   "metadata": {},
   "outputs": [
    {
     "name": "stdout",
     "output_type": "stream",
     "text": [
      "16:44:44\tIniciando atribuição do acidentes nas arestas\n",
      "16:45:43\tFinalizando atribuição do acidentes nas arestas\n"
     ]
    }
   ],
   "source": [
    "print('{}\\tIniciando atribuição do acidentes nas arestas (1 min)'.format(datetime.now().strftime('%H:%M:%S')))\n",
    "\n",
    "acc.put_accidents_on_edges(G, df_acidentes_final, True)\n",
    "\n",
    "print('{}\\tFinalizando atribuição do acidentes nas arestas'.format(datetime.now().strftime('%H:%M:%S')))"
   ]
  },
  {
   "cell_type": "code",
   "execution_count": null,
   "id": "02e0baf2",
   "metadata": {},
   "outputs": [],
   "source": []
  }
 ],
 "metadata": {
  "kernelspec": {
   "display_name": "Python 3 (ipykernel)",
   "language": "python",
   "name": "python3"
  },
  "language_info": {
   "codemirror_mode": {
    "name": "ipython",
    "version": 3
   },
   "file_extension": ".py",
   "mimetype": "text/x-python",
   "name": "python",
   "nbconvert_exporter": "python",
   "pygments_lexer": "ipython3",
   "version": "3.7.13"
  }
 },
 "nbformat": 4,
 "nbformat_minor": 5
}
