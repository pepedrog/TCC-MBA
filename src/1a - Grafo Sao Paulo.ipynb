{
 "cells": [
  {
   "cell_type": "markdown",
   "id": "5d767023",
   "metadata": {},
   "source": [
    "### Construção de um grafo da cidade de São Paulo\n",
    "\n",
    "Este notebook constrói um grafo (objeto da biblioteca networkx) que modela as ruas da cidade de São Paulo.\n",
    "\n",
    "As arestas modelam os logradouros (ruas, avenidas) e os vértices são as conexões entre eles (esquinas, cruzamentos).\n",
    "\n",
    "O grafo será utilizado para armazenar os eventos estudados (acidentes e congestionamentos)"
   ]
  },
  {
   "cell_type": "code",
   "execution_count": 1,
   "id": "4957fb63",
   "metadata": {},
   "outputs": [],
   "source": [
    "import geopandas as gpd\n",
    "from pyproj import CRS\n",
    "import networkx as nx\n",
    "import aux.sao_paulo_shapefile as sp_shp\n",
    "import aux.sao_paulo_graph as sp_graph\n",
    "\n",
    "# se nenessário recarregar os arquivos auxiliares\n",
    "# from importlib import reload\n",
    "# reload(sp_shp)"
   ]
  },
  {
   "cell_type": "markdown",
   "id": "5cc7326f",
   "metadata": {},
   "source": [
    "##### Leitura e tratamento do arquivo de logradouros (shapefile)"
   ]
  },
  {
   "cell_type": "code",
   "execution_count": 2,
   "id": "8035534e",
   "metadata": {},
   "outputs": [],
   "source": [
    "# arquivos com todos os logradouros (ruas, avenidas, ...) e suas coordenadas\n",
    "gdf_logradouros = sp_shp.read_file('data/logradouros/SIRGAS_SHP_logradouronbl_line.shp')\n",
    "# 222.532 registros"
   ]
  },
  {
   "cell_type": "code",
   "execution_count": 3,
   "id": "76507e7d",
   "metadata": {},
   "outputs": [],
   "source": [
    "# tratamento de nulos\n",
    "#gdf_logradouros = sp_shp.process_null_values(gdf_logradouros)\n",
    "# 178564 registros não nulos"
   ]
  },
  {
   "cell_type": "code",
   "execution_count": 4,
   "id": "d619b1f6",
   "metadata": {},
   "outputs": [],
   "source": [
    "# regulariza colunas (comprimento e nome)\n",
    "gdf_logradouros = sp_shp.standardize_columns(gdf_logradouros)"
   ]
  },
  {
   "cell_type": "markdown",
   "id": "fe2caf6a",
   "metadata": {},
   "source": [
    "##### Construção do grafo\n",
    "\n",
    "Os códigos para construção foram colocados no arquivo `aux/sao_paulo_graph.py`.\n",
    "\n",
    "A ideia consiste em unir os começos e fins das ruas em vértices com uma tolerância de 5m (parâmetro `min_distance`)."
   ]
  },
  {
   "cell_type": "code",
   "execution_count": 5,
   "id": "d09d39bd",
   "metadata": {},
   "outputs": [
    {
     "name": "stdout",
     "output_type": "stream",
     "text": [
      "Número de vértices:     185665\n",
      "Número de arestas:      222532\n",
      "Número de componentes:  11181\n"
     ]
    }
   ],
   "source": [
    "G = sp_graph.create_graph (gdf_logradouros, print_progress = False)\n",
    "\n",
    "print('Número de vértices:    ', G.number_of_nodes())\n",
    "print('Número de arestas:     ', G.number_of_edges())\n",
    "print('Número de componentes: ', nx.number_connected_components(G))"
   ]
  },
  {
   "cell_type": "code",
   "execution_count": null,
   "id": "ed944594",
   "metadata": {},
   "outputs": [],
   "source": [
    "sp_graph.save_in_html_map(G, 'mapas/mapa_vertices_1.html')"
   ]
  },
  {
   "cell_type": "code",
   "execution_count": 6,
   "id": "cc30d3be",
   "metadata": {},
   "outputs": [
    {
     "name": "stdout",
     "output_type": "stream",
     "text": [
      "Número de vértices:     156156\n",
      "Número de arestas:      222532\n",
      "Número de componentes:  4458\n"
     ]
    }
   ],
   "source": [
    "# combinando vértices muito próximos (vindo de imprecisões das coordenadas do shapefile)\n",
    "\n",
    "min_distance = 5e-5 # 5 metros no sistema de coordenadas let/lon\n",
    "G = sp_graph.combine_close_nodes (G, min_distance = 5e-5, print_progress = False)\n",
    "\n",
    "print('Número de vértices:    ', G.number_of_nodes())\n",
    "print('Número de arestas:     ', G.number_of_edges())\n",
    "print('Número de componentes: ',  nx.number_connected_components(G))"
   ]
  },
  {
   "cell_type": "code",
   "execution_count": null,
   "id": "c734e443",
   "metadata": {},
   "outputs": [],
   "source": [
    "sp_graph.save_in_html_map(G, 'mapas/mapa_vertices_2.html')"
   ]
  },
  {
   "cell_type": "code",
   "execution_count": 7,
   "id": "744f58c9",
   "metadata": {},
   "outputs": [
    {
     "name": "stdout",
     "output_type": "stream",
     "text": [
      "Número de vértices:     143008\n",
      "Número de arestas:      208819\n",
      "Número de componentes:  4458\n"
     ]
    }
   ],
   "source": [
    "G = sp_graph.remove_connection_nodes (G, print_progress = False)\n",
    "\n",
    "print('Número de vértices:    ', G.number_of_nodes())\n",
    "print('Número de arestas:     ', G.number_of_edges())\n",
    "print('Número de componentes: ',  nx.number_connected_components(G))"
   ]
  },
  {
   "cell_type": "code",
   "execution_count": 8,
   "id": "8b296d3e",
   "metadata": {},
   "outputs": [],
   "source": [
    "sp_graph.save_in_html_map(G, 'mapas/mapa_vertices_3.html')"
   ]
  },
  {
   "cell_type": "markdown",
   "id": "ac37442a",
   "metadata": {},
   "source": [
    "#### Análises do Grafo"
   ]
  },
  {
   "cell_type": "markdown",
   "id": "330fb2cf",
   "metadata": {},
   "source": [
    "##### Conectividade"
   ]
  },
  {
   "cell_type": "code",
   "execution_count": 6,
   "id": "b637d966",
   "metadata": {},
   "outputs": [
    {
     "name": "stdout",
     "output_type": "stream",
     "text": [
      "Há 11181 componentes conexos no grafo\n"
     ]
    }
   ],
   "source": [
    "n = nx.number_connected_components(G)\n",
    "print('Há', n, 'componentes conexos no grafo') # 1106 "
   ]
  },
  {
   "cell_type": "code",
   "execution_count": 7,
   "id": "2c12089a",
   "metadata": {},
   "outputs": [],
   "source": [
    "S = [G.subgraph(c).copy() for c in nx.connected_components(G)]\n",
    "S = [(g, g.number_of_nodes(), g.number_of_edges()) for g in S]\n",
    "S.sort(key = lambda s : s[1] + s[2], reverse = True)"
   ]
  },
  {
   "cell_type": "code",
   "execution_count": 8,
   "id": "d8d3071b",
   "metadata": {},
   "outputs": [
    {
     "name": "stdout",
     "output_type": "stream",
     "text": [
      "Componente 0:\t\t 140224 nós\t 181889 arestas\t\t 78.9 % do grafo\n",
      "Componente 1:\t\t  1210 nós\t   1447 arestas\t\t  0.7 % do grafo\n",
      "Componente 2:\t\t  1114 nós\t   1360 arestas\t\t  0.6 % do grafo\n",
      "Componente 3:\t\t   893 nós\t   1057 arestas\t\t  0.5 % do grafo\n",
      "Componente 4:\t\t   687 nós\t    770 arestas\t\t  0.4 % do grafo\n",
      "Demais componentes:\t 42224 nós\t  36779 arestas\t\t 19.4 % do grafo\n"
     ]
    }
   ],
   "source": [
    "n = G.number_of_nodes() + G.number_of_edges()\n",
    "for i in range(5):\n",
    "    s = S[i]\n",
    "    v = s[1]\n",
    "    a = s[2]\n",
    "    p = round((v + a) / n * 100, 1)\n",
    "    print('Componente {}:\\t\\t {} nós\\t {} arestas\\t\\t {} % do grafo'.format(\n",
    "        i, str(v).rjust(5, ' '), str(a).rjust(6, ' '),\n",
    "        str(p).rjust(4, ' ')))\n",
    "          \n",
    "v = sum([s[1] for s in S[i:]])\n",
    "a = sum([s[2] for s in S[i:]])\n",
    "p = round((v + a) / n * 100, 1)\n",
    "print('Demais componentes:\\t {} nós\\t {} arestas\\t\\t {} % do grafo'.format(\n",
    "       str(v).rjust(5, ' '), str(a).rjust(6, ' '), str(p).rjust(4, ' ')))"
   ]
  },
  {
   "cell_type": "code",
   "execution_count": 13,
   "id": "5d0fa925",
   "metadata": {},
   "outputs": [],
   "source": [
    "sp_graph.save_in_html_map(S[0][0], 'mapas/mapa_vertices_componente0.html')\n",
    "sp_graph.save_in_html_map(S[1][0], 'mapas/mapa_vertices_componente1.html')\n",
    "sp_graph.save_in_html_map(S[2][0], 'mapas/mapa_vertices_componente2.html')\n",
    "sp_graph.save_in_html_map(S[3][0], 'mapas/mapa_vertices_componente3.html')\n",
    "sp_graph.save_in_html_map(S[20][0], 'mapas/mapa_vertices_componente20.html')"
   ]
  },
  {
   "cell_type": "markdown",
   "id": "97bbafe8",
   "metadata": {},
   "source": [
    "#### Análise do maior componente"
   ]
  },
  {
   "cell_type": "code",
   "execution_count": 94,
   "id": "20d58822",
   "metadata": {},
   "outputs": [],
   "source": [
    "H = S[0][0]"
   ]
  },
  {
   "cell_type": "code",
   "execution_count": null,
   "id": "c9f20013",
   "metadata": {},
   "outputs": [
    {
     "name": "stdout",
     "output_type": "stream",
     "text": [
      "1\n"
     ]
    }
   ],
   "source": [
    "diametro = nx.diameter(H)\n",
    "print(diametro)\n",
    "print('Diâmetro do grafo: ', diametro / 1000, 'km')"
   ]
  },
  {
   "cell_type": "code",
   "execution_count": null,
   "id": "a14a5040",
   "metadata": {},
   "outputs": [],
   "source": [
    "# distribuição dos graus\n",
    "# distribuição do comprimento das arestas"
   ]
  }
 ],
 "metadata": {
  "kernelspec": {
   "display_name": "Python 3 (ipykernel)",
   "language": "python",
   "name": "python3"
  },
  "language_info": {
   "codemirror_mode": {
    "name": "ipython",
    "version": 3
   },
   "file_extension": ".py",
   "mimetype": "text/x-python",
   "name": "python",
   "nbconvert_exporter": "python",
   "pygments_lexer": "ipython3",
   "version": "3.7.13"
  }
 },
 "nbformat": 4,
 "nbformat_minor": 5
}
